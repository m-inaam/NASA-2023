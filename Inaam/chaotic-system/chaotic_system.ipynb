{
 "cells": [
  {
   "cell_type": "code",
   "execution_count": null,
   "id": "91ade3e2",
   "metadata": {},
   "outputs": [],
   "source": [
    "import numpy as np\n",
    "import matplotlib.pyplot as plt\n",
    "from mpl_toolkits.mplot3d import Axes3D\n",
    "from scipy.integrate import odeint\n",
    "from PIL import Image\n",
    "\n",
    "# Define the chaotic system equations\n",
    "def lorenz_system(state, t, σ, ρ, β):\n",
    "    x, y, z = state\n",
    "    dxdt = σ * (y - x)\n",
    "    dydt = ρ * x - y - x * z\n",
    "    dzdt = x * y - β * z\n",
    "    return [dxdt, dydt, dzdt]\n",
    "\n",
    "# Initial conditions and parameters\n",
    "initial_state = [1.0, 0.0, 0.0]\n",
    "σ, ρ, β = 10.0, 28.0, 8.0 / 3.0\n",
    "t = np.linspace(0, 50, 10000)\n",
    "\n",
    "# Solve the equations\n",
    "solution = odeint(lorenz_system, initial_state, t, args=(σ, ρ, β))\n",
    "\n",
    "# Create and save individual frames as PNG images\n",
    "for i in range(len(t)):\n",
    "    fig = plt.figure()\n",
    "    ax = fig.add_subplot(111, projection='3d')\n",
    "    x, y, z = solution[:i+1].T\n",
    "    ax.plot(x, y, z, lw=0.5)\n",
    "    ax.set_xlabel('X-axis')\n",
    "    ax.set_ylabel('Y-axis')\n",
    "    ax.set_zlabel('Z-axis')\n",
    "    ax.set_title(f'Lorenz Chaotic System - Frame {i}')\n",
    "    plt.savefig(f'frame_{i:04d}.png')\n",
    "    plt.close()\n",
    "\n",
    "# Create an animated GIF from the saved frames\n",
    "frames = [Image.open(f'frame_{i:04d}.png') for i in range(len(t))]\n",
    "frames[0].save('chaotic_system_animation.gif', save_all=True, append_images=frames[1:], duration=100, loop=0)\n",
    "\n",
    "# Delete the individual frames (optional)\n",
    "for i in range(len(t)):\n",
    "    os.remove(f'frame_{i:04d}.png')\n"
   ]
  },
  {
   "cell_type": "code",
   "execution_count": null,
   "id": "d997cf26",
   "metadata": {},
   "outputs": [],
   "source": []
  }
 ],
 "metadata": {
  "kernelspec": {
   "display_name": "Python 3 (ipykernel)",
   "language": "python",
   "name": "python3"
  },
  "language_info": {
   "codemirror_mode": {
    "name": "ipython",
    "version": 3
   },
   "file_extension": ".py",
   "mimetype": "text/x-python",
   "name": "python",
   "nbconvert_exporter": "python",
   "pygments_lexer": "ipython3",
   "version": "3.10.9"
  }
 },
 "nbformat": 4,
 "nbformat_minor": 5
}

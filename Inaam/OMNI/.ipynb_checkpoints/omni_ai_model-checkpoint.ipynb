{
 "cells": [
  {
   "cell_type": "markdown",
   "id": "a286192b",
   "metadata": {},
   "source": [
    "# OMNI - RNN Regression model "
   ]
  },
  {
   "cell_type": "markdown",
   "id": "d6705cf1",
   "metadata": {},
   "source": [
    "## Importing libraries & Data"
   ]
  },
  {
   "cell_type": "code",
   "execution_count": 1,
   "id": "c6ffa348",
   "metadata": {},
   "outputs": [],
   "source": [
    "import os\n",
    "import pandas as pd\n",
    "import numpy as np\n",
    "import matplotlib.pyplot as plt\n",
    "import matplotlib.ticker as ticker\n",
    "import matplotlib.dates as mdates\n",
    "from sklearn.model_selection import train_test_split\n",
    "from sklearn.preprocessing import MinMaxScaler\n",
    "import tensorflow as tf\n",
    "from tensorflow import keras"
   ]
  },
  {
   "cell_type": "code",
   "execution_count": 2,
   "id": "19b3c66e",
   "metadata": {},
   "outputs": [],
   "source": [
    "# Directory containing the data files\n",
    "data_dir = 'omni_data'"
   ]
  },
  {
   "cell_type": "markdown",
   "id": "39c466eb",
   "metadata": {},
   "source": [
    "## Data Preproseessing"
   ]
  },
  {
   "cell_type": "code",
   "execution_count": 3,
   "id": "3263d23f",
   "metadata": {},
   "outputs": [],
   "source": [
    "# Initialize an empty DataFrame to store the data\n",
    "solar_data = pd.DataFrame()"
   ]
  },
  {
   "cell_type": "code",
   "execution_count": 4,
   "id": "539586ea",
   "metadata": {},
   "outputs": [
    {
     "name": "stderr",
     "output_type": "stream",
     "text": [
      "C:\\Users\\muham\\AppData\\Local\\Temp\\ipykernel_22708\\1094158808.py:23: FutureWarning: The frame.append method is deprecated and will be removed from pandas in a future version. Use pandas.concat instead.\n",
      "  solar_data = solar_data.append(data)\n",
      "C:\\Users\\muham\\AppData\\Local\\Temp\\ipykernel_22708\\1094158808.py:23: FutureWarning: The frame.append method is deprecated and will be removed from pandas in a future version. Use pandas.concat instead.\n",
      "  solar_data = solar_data.append(data)\n",
      "C:\\Users\\muham\\AppData\\Local\\Temp\\ipykernel_22708\\1094158808.py:23: FutureWarning: The frame.append method is deprecated and will be removed from pandas in a future version. Use pandas.concat instead.\n",
      "  solar_data = solar_data.append(data)\n",
      "C:\\Users\\muham\\AppData\\Local\\Temp\\ipykernel_22708\\1094158808.py:23: FutureWarning: The frame.append method is deprecated and will be removed from pandas in a future version. Use pandas.concat instead.\n",
      "  solar_data = solar_data.append(data)\n",
      "C:\\Users\\muham\\AppData\\Local\\Temp\\ipykernel_22708\\1094158808.py:23: FutureWarning: The frame.append method is deprecated and will be removed from pandas in a future version. Use pandas.concat instead.\n",
      "  solar_data = solar_data.append(data)\n",
      "C:\\Users\\muham\\AppData\\Local\\Temp\\ipykernel_22708\\1094158808.py:23: FutureWarning: The frame.append method is deprecated and will be removed from pandas in a future version. Use pandas.concat instead.\n",
      "  solar_data = solar_data.append(data)\n",
      "C:\\Users\\muham\\AppData\\Local\\Temp\\ipykernel_22708\\1094158808.py:23: FutureWarning: The frame.append method is deprecated and will be removed from pandas in a future version. Use pandas.concat instead.\n",
      "  solar_data = solar_data.append(data)\n",
      "C:\\Users\\muham\\AppData\\Local\\Temp\\ipykernel_22708\\1094158808.py:23: FutureWarning: The frame.append method is deprecated and will be removed from pandas in a future version. Use pandas.concat instead.\n",
      "  solar_data = solar_data.append(data)\n",
      "C:\\Users\\muham\\AppData\\Local\\Temp\\ipykernel_22708\\1094158808.py:23: FutureWarning: The frame.append method is deprecated and will be removed from pandas in a future version. Use pandas.concat instead.\n",
      "  solar_data = solar_data.append(data)\n",
      "C:\\Users\\muham\\AppData\\Local\\Temp\\ipykernel_22708\\1094158808.py:23: FutureWarning: The frame.append method is deprecated and will be removed from pandas in a future version. Use pandas.concat instead.\n",
      "  solar_data = solar_data.append(data)\n",
      "C:\\Users\\muham\\AppData\\Local\\Temp\\ipykernel_22708\\1094158808.py:23: FutureWarning: The frame.append method is deprecated and will be removed from pandas in a future version. Use pandas.concat instead.\n",
      "  solar_data = solar_data.append(data)\n",
      "C:\\Users\\muham\\AppData\\Local\\Temp\\ipykernel_22708\\1094158808.py:23: FutureWarning: The frame.append method is deprecated and will be removed from pandas in a future version. Use pandas.concat instead.\n",
      "  solar_data = solar_data.append(data)\n",
      "C:\\Users\\muham\\AppData\\Local\\Temp\\ipykernel_22708\\1094158808.py:23: FutureWarning: The frame.append method is deprecated and will be removed from pandas in a future version. Use pandas.concat instead.\n",
      "  solar_data = solar_data.append(data)\n",
      "C:\\Users\\muham\\AppData\\Local\\Temp\\ipykernel_22708\\1094158808.py:23: FutureWarning: The frame.append method is deprecated and will be removed from pandas in a future version. Use pandas.concat instead.\n",
      "  solar_data = solar_data.append(data)\n",
      "C:\\Users\\muham\\AppData\\Local\\Temp\\ipykernel_22708\\1094158808.py:23: FutureWarning: The frame.append method is deprecated and will be removed from pandas in a future version. Use pandas.concat instead.\n",
      "  solar_data = solar_data.append(data)\n",
      "C:\\Users\\muham\\AppData\\Local\\Temp\\ipykernel_22708\\1094158808.py:23: FutureWarning: The frame.append method is deprecated and will be removed from pandas in a future version. Use pandas.concat instead.\n",
      "  solar_data = solar_data.append(data)\n",
      "C:\\Users\\muham\\AppData\\Local\\Temp\\ipykernel_22708\\1094158808.py:23: FutureWarning: The frame.append method is deprecated and will be removed from pandas in a future version. Use pandas.concat instead.\n",
      "  solar_data = solar_data.append(data)\n",
      "C:\\Users\\muham\\AppData\\Local\\Temp\\ipykernel_22708\\1094158808.py:23: FutureWarning: The frame.append method is deprecated and will be removed from pandas in a future version. Use pandas.concat instead.\n",
      "  solar_data = solar_data.append(data)\n",
      "C:\\Users\\muham\\AppData\\Local\\Temp\\ipykernel_22708\\1094158808.py:23: FutureWarning: The frame.append method is deprecated and will be removed from pandas in a future version. Use pandas.concat instead.\n",
      "  solar_data = solar_data.append(data)\n",
      "C:\\Users\\muham\\AppData\\Local\\Temp\\ipykernel_22708\\1094158808.py:23: FutureWarning: The frame.append method is deprecated and will be removed from pandas in a future version. Use pandas.concat instead.\n",
      "  solar_data = solar_data.append(data)\n"
     ]
    }
   ],
   "source": [
    "# Loop through the years from 2004 to 2023\n",
    "for year in range(2004, 2024):\n",
    "    # Construct the filename for the data file\n",
    "    file_name = f'omni_min_{year}.lst'\n",
    "    file_path = os.path.join(data_dir, file_name)\n",
    "\n",
    "    # columns name for easy access\n",
    "    common_header = [\"YYYY\", \"DOY\", \"HR\", \"MN\"]\n",
    "    headers = [\"Timeshift\", \"Field magnitude average(nT)\", \"Speed(km/s)\", \"Proton Density(n/cc)\", \"Temperature(K)\",\n",
    "               \"FlowPressure(nPa)\"]\n",
    "\n",
    "    # graph_label for headers(short)\n",
    "    graph_header = [\"TimeShift\", \"Magnetic Field\", \"Speed\", \"Density\", \"Tempt\", \"Pressure\"]\n",
    "\n",
    "    common_header.extend(headers)\n",
    "\n",
    "    # Check if the file exists before attempting to read it\n",
    "    if os.path.isfile(file_path):\n",
    "        # Read the data from the file into a DataFrame\n",
    "        data = pd.read_csv(file_path, sep='\\s+', names=common_header)\n",
    "\n",
    "        # Append the data to the combined DataFrame\n",
    "        solar_data = solar_data.append(data)\n",
    "\n",
    "# Reset the index of the combined DataFrame\n",
    "solar_data.reset_index(drop=True, inplace=True)"
   ]
  },
  {
   "cell_type": "code",
   "execution_count": 5,
   "id": "8f4e82ab",
   "metadata": {},
   "outputs": [],
   "source": [
    "# To remove the outliers\n",
    "# This takes the highest value(999,9999,999999) outliers from the series so before using this we should be sure our all column\n",
    "# have outliers and then later remove the column not having outliers from list headers\n",
    "for itm in headers:\n",
    "    solar_data.replace(to_replace=solar_data[itm].max(), value=np.NaN, inplace=True)\n",
    "    solar_data.fillna(method='bfill', inplace=True)"
   ]
  },
  {
   "cell_type": "code",
   "execution_count": 6,
   "id": "dada4dcd",
   "metadata": {},
   "outputs": [
    {
     "data": {
      "text/html": [
       "<div>\n",
       "<style scoped>\n",
       "    .dataframe tbody tr th:only-of-type {\n",
       "        vertical-align: middle;\n",
       "    }\n",
       "\n",
       "    .dataframe tbody tr th {\n",
       "        vertical-align: top;\n",
       "    }\n",
       "\n",
       "    .dataframe thead th {\n",
       "        text-align: right;\n",
       "    }\n",
       "</style>\n",
       "<table border=\"1\" class=\"dataframe\">\n",
       "  <thead>\n",
       "    <tr style=\"text-align: right;\">\n",
       "      <th></th>\n",
       "      <th>YYYY</th>\n",
       "      <th>DOY</th>\n",
       "      <th>HR</th>\n",
       "      <th>MN</th>\n",
       "      <th>Timeshift</th>\n",
       "      <th>Field magnitude average(nT)</th>\n",
       "      <th>Speed(km/s)</th>\n",
       "      <th>Proton Density(n/cc)</th>\n",
       "      <th>Temperature(K)</th>\n",
       "      <th>FlowPressure(nPa)</th>\n",
       "    </tr>\n",
       "  </thead>\n",
       "  <tbody>\n",
       "    <tr>\n",
       "      <th>count</th>\n",
       "      <td>57600.000000</td>\n",
       "      <td>57600.000000</td>\n",
       "      <td>57600.000000</td>\n",
       "      <td>57600.000000</td>\n",
       "      <td>57600.000000</td>\n",
       "      <td>57600.000000</td>\n",
       "      <td>57600.000000</td>\n",
       "      <td>57600.000000</td>\n",
       "      <td>5.760000e+04</td>\n",
       "      <td>57600.000000</td>\n",
       "    </tr>\n",
       "    <tr>\n",
       "      <th>mean</th>\n",
       "      <td>2013.500000</td>\n",
       "      <td>238.750000</td>\n",
       "      <td>11.500000</td>\n",
       "      <td>29.500000</td>\n",
       "      <td>3429.379497</td>\n",
       "      <td>6.090834</td>\n",
       "      <td>413.095273</td>\n",
       "      <td>6.981718</td>\n",
       "      <td>8.918654e+04</td>\n",
       "      <td>2.070726</td>\n",
       "    </tr>\n",
       "    <tr>\n",
       "      <th>std</th>\n",
       "      <td>5.766331</td>\n",
       "      <td>0.661444</td>\n",
       "      <td>6.922247</td>\n",
       "      <td>17.318253</td>\n",
       "      <td>1045.662655</td>\n",
       "      <td>3.248565</td>\n",
       "      <td>99.650143</td>\n",
       "      <td>6.422742</td>\n",
       "      <td>9.286807e+04</td>\n",
       "      <td>1.636582</td>\n",
       "    </tr>\n",
       "    <tr>\n",
       "      <th>min</th>\n",
       "      <td>2004.000000</td>\n",
       "      <td>238.000000</td>\n",
       "      <td>0.000000</td>\n",
       "      <td>0.000000</td>\n",
       "      <td>-2077.000000</td>\n",
       "      <td>0.220000</td>\n",
       "      <td>253.600000</td>\n",
       "      <td>0.760000</td>\n",
       "      <td>5.653000e+03</td>\n",
       "      <td>0.290000</td>\n",
       "    </tr>\n",
       "    <tr>\n",
       "      <th>25%</th>\n",
       "      <td>2008.750000</td>\n",
       "      <td>238.000000</td>\n",
       "      <td>5.750000</td>\n",
       "      <td>14.750000</td>\n",
       "      <td>2761.000000</td>\n",
       "      <td>4.050000</td>\n",
       "      <td>343.000000</td>\n",
       "      <td>3.180000</td>\n",
       "      <td>2.788750e+04</td>\n",
       "      <td>1.140000</td>\n",
       "    </tr>\n",
       "    <tr>\n",
       "      <th>50%</th>\n",
       "      <td>2013.500000</td>\n",
       "      <td>239.000000</td>\n",
       "      <td>11.500000</td>\n",
       "      <td>29.500000</td>\n",
       "      <td>3402.000000</td>\n",
       "      <td>5.180000</td>\n",
       "      <td>386.600000</td>\n",
       "      <td>4.860000</td>\n",
       "      <td>6.042750e+04</td>\n",
       "      <td>1.630000</td>\n",
       "    </tr>\n",
       "    <tr>\n",
       "      <th>75%</th>\n",
       "      <td>2018.250000</td>\n",
       "      <td>239.000000</td>\n",
       "      <td>17.250000</td>\n",
       "      <td>44.250000</td>\n",
       "      <td>4016.000000</td>\n",
       "      <td>6.900000</td>\n",
       "      <td>442.000000</td>\n",
       "      <td>8.580000</td>\n",
       "      <td>1.175632e+05</td>\n",
       "      <td>2.370000</td>\n",
       "    </tr>\n",
       "    <tr>\n",
       "      <th>max</th>\n",
       "      <td>2023.000000</td>\n",
       "      <td>240.000000</td>\n",
       "      <td>23.000000</td>\n",
       "      <td>59.000000</td>\n",
       "      <td>10028.000000</td>\n",
       "      <td>21.380000</td>\n",
       "      <td>742.200000</td>\n",
       "      <td>64.690000</td>\n",
       "      <td>1.028652e+06</td>\n",
       "      <td>17.660000</td>\n",
       "    </tr>\n",
       "  </tbody>\n",
       "</table>\n",
       "</div>"
      ],
      "text/plain": [
       "               YYYY           DOY            HR            MN     Timeshift  \\\n",
       "count  57600.000000  57600.000000  57600.000000  57600.000000  57600.000000   \n",
       "mean    2013.500000    238.750000     11.500000     29.500000   3429.379497   \n",
       "std        5.766331      0.661444      6.922247     17.318253   1045.662655   \n",
       "min     2004.000000    238.000000      0.000000      0.000000  -2077.000000   \n",
       "25%     2008.750000    238.000000      5.750000     14.750000   2761.000000   \n",
       "50%     2013.500000    239.000000     11.500000     29.500000   3402.000000   \n",
       "75%     2018.250000    239.000000     17.250000     44.250000   4016.000000   \n",
       "max     2023.000000    240.000000     23.000000     59.000000  10028.000000   \n",
       "\n",
       "       Field magnitude average(nT)   Speed(km/s)  Proton Density(n/cc)  \\\n",
       "count                 57600.000000  57600.000000          57600.000000   \n",
       "mean                      6.090834    413.095273              6.981718   \n",
       "std                       3.248565     99.650143              6.422742   \n",
       "min                       0.220000    253.600000              0.760000   \n",
       "25%                       4.050000    343.000000              3.180000   \n",
       "50%                       5.180000    386.600000              4.860000   \n",
       "75%                       6.900000    442.000000              8.580000   \n",
       "max                      21.380000    742.200000             64.690000   \n",
       "\n",
       "       Temperature(K)  FlowPressure(nPa)  \n",
       "count    5.760000e+04       57600.000000  \n",
       "mean     8.918654e+04           2.070726  \n",
       "std      9.286807e+04           1.636582  \n",
       "min      5.653000e+03           0.290000  \n",
       "25%      2.788750e+04           1.140000  \n",
       "50%      6.042750e+04           1.630000  \n",
       "75%      1.175632e+05           2.370000  \n",
       "max      1.028652e+06          17.660000  "
      ]
     },
     "execution_count": 6,
     "metadata": {},
     "output_type": "execute_result"
    }
   ],
   "source": [
    "solar_data.describe()"
   ]
  },
  {
   "cell_type": "markdown",
   "id": "5afb3179",
   "metadata": {},
   "source": [
    "## Feature Extraction"
   ]
  },
  {
   "cell_type": "code",
   "execution_count": 7,
   "id": "d8d88a41",
   "metadata": {},
   "outputs": [],
   "source": [
    "# Define selected features and target variables\n",
    "selected_features = [\"FlowPressure(nPa)\", \"Temperature(K)\"]\n",
    "target_variables = [\"Speed(km/s)\", \"Field magnitude average(nT)\"]"
   ]
  },
  {
   "cell_type": "code",
   "execution_count": 8,
   "id": "7ea8bcb3",
   "metadata": {},
   "outputs": [],
   "source": [
    "# Split the data into features (X) and target (y)\n",
    "X = solar_data[selected_features].values\n",
    "y = solar_data[target_variables].values\n",
    "\n",
    "# Normalize the data\n",
    "scaler = MinMaxScaler()\n",
    "X = scaler.fit_transform(X)\n",
    "y = scaler.fit_transform(y)"
   ]
  },
  {
   "cell_type": "markdown",
   "id": "98456e52",
   "metadata": {},
   "source": [
    "## Model building "
   ]
  },
  {
   "cell_type": "code",
   "execution_count": 9,
   "id": "f1669deb",
   "metadata": {},
   "outputs": [],
   "source": [
    "# Split the data into training and testing sets\n",
    "X_train, X_test, y_train, y_test = train_test_split(X, y, test_size=0.2, random_state=42)"
   ]
  },
  {
   "cell_type": "code",
   "execution_count": 10,
   "id": "0d6a57e4",
   "metadata": {},
   "outputs": [],
   "source": [
    "# Build the RNN model with an additional LSTM layer and a dropout layer\n",
    "model = keras.Sequential([\n",
    "    keras.layers.LSTM(50, activation='relu', return_sequences=True, input_shape=(X_train.shape[1], 1)),\n",
    "    keras.layers.LSTM(50, activation='relu'),  # Second LSTM layer\n",
    "    keras.layers.Dropout(0.2),  # Dropout layer to prevent overfitting\n",
    "    keras.layers.Dense(2)  # Two output neurons for speed and field magnitude\n",
    "])"
   ]
  },
  {
   "cell_type": "code",
   "execution_count": 11,
   "id": "1c3cf7ff",
   "metadata": {},
   "outputs": [],
   "source": [
    "model.compile(optimizer='adam', loss='mean_squared_error')"
   ]
  },
  {
   "cell_type": "code",
   "execution_count": 12,
   "id": "7998d46e",
   "metadata": {},
   "outputs": [
    {
     "name": "stdout",
     "output_type": "stream",
     "text": [
      "Epoch 1/100\n",
      "1440/1440 [==============================] - 18s 8ms/step - loss: 0.0254 - val_loss: 0.0170\n",
      "Epoch 2/100\n",
      "1440/1440 [==============================] - 11s 8ms/step - loss: 0.0172 - val_loss: 0.0162\n",
      "Epoch 3/100\n",
      "1440/1440 [==============================] - 12s 9ms/step - loss: 0.0167 - val_loss: 0.0160\n",
      "Epoch 4/100\n",
      "1440/1440 [==============================] - 11s 8ms/step - loss: 0.0164 - val_loss: 0.0158\n",
      "Epoch 5/100\n",
      "1440/1440 [==============================] - 11s 8ms/step - loss: 0.0163 - val_loss: 0.0159\n",
      "Epoch 6/100\n",
      "1440/1440 [==============================] - 11s 8ms/step - loss: 0.0161 - val_loss: 0.0157\n",
      "Epoch 7/100\n",
      "1440/1440 [==============================] - 11s 8ms/step - loss: 0.0160 - val_loss: 0.0157\n",
      "Epoch 8/100\n",
      "1440/1440 [==============================] - 11s 8ms/step - loss: 0.0160 - val_loss: 0.0158\n",
      "Epoch 9/100\n",
      "1440/1440 [==============================] - 10s 7ms/step - loss: 0.0160 - val_loss: 0.0156\n",
      "Epoch 10/100\n",
      "1440/1440 [==============================] - 11s 7ms/step - loss: 0.0159 - val_loss: 0.0155\n",
      "Epoch 11/100\n",
      "1440/1440 [==============================] - 10s 7ms/step - loss: 0.0159 - val_loss: 0.0155\n",
      "Epoch 12/100\n",
      "1440/1440 [==============================] - 10s 7ms/step - loss: 0.0159 - val_loss: 0.0157\n",
      "Epoch 13/100\n",
      "1440/1440 [==============================] - 10s 7ms/step - loss: 0.0158 - val_loss: 0.0154\n",
      "Epoch 14/100\n",
      "1440/1440 [==============================] - 11s 7ms/step - loss: 0.0158 - val_loss: 0.0154\n",
      "Epoch 15/100\n",
      "1440/1440 [==============================] - 10s 7ms/step - loss: 0.0158 - val_loss: 0.0154\n",
      "Epoch 16/100\n",
      "1440/1440 [==============================] - 11s 8ms/step - loss: 0.0157 - val_loss: 0.0153\n",
      "Epoch 17/100\n",
      "1440/1440 [==============================] - 11s 8ms/step - loss: 0.0157 - val_loss: 0.0155\n",
      "Epoch 18/100\n",
      "1440/1440 [==============================] - 11s 8ms/step - loss: 0.0157 - val_loss: 0.0154\n",
      "Epoch 19/100\n",
      "1440/1440 [==============================] - 11s 7ms/step - loss: 0.0157 - val_loss: 0.0153\n",
      "Epoch 20/100\n",
      "1440/1440 [==============================] - 11s 8ms/step - loss: 0.0157 - val_loss: 0.0153\n",
      "Epoch 21/100\n",
      "1440/1440 [==============================] - 11s 8ms/step - loss: 0.0157 - val_loss: 0.0153\n",
      "Epoch 22/100\n",
      "1440/1440 [==============================] - 10s 7ms/step - loss: 0.0156 - val_loss: 0.0152\n",
      "Epoch 23/100\n",
      "1440/1440 [==============================] - 10s 7ms/step - loss: 0.0156 - val_loss: 0.0153\n",
      "Epoch 24/100\n",
      "1440/1440 [==============================] - 11s 8ms/step - loss: 0.0156 - val_loss: 0.0152\n",
      "Epoch 25/100\n",
      "1440/1440 [==============================] - 11s 7ms/step - loss: 0.0156 - val_loss: 0.0153\n",
      "Epoch 26/100\n",
      "1440/1440 [==============================] - 11s 8ms/step - loss: 0.0156 - val_loss: 0.0153\n",
      "Epoch 27/100\n",
      "1440/1440 [==============================] - 11s 7ms/step - loss: 0.0156 - val_loss: 0.0152\n",
      "Epoch 28/100\n",
      "1440/1440 [==============================] - 11s 8ms/step - loss: 0.0155 - val_loss: 0.0152\n",
      "Epoch 29/100\n",
      "1440/1440 [==============================] - 13s 9ms/step - loss: 0.0156 - val_loss: 0.0152\n",
      "Epoch 30/100\n",
      "1440/1440 [==============================] - 10s 7ms/step - loss: 0.0155 - val_loss: 0.0153\n",
      "Epoch 31/100\n",
      "1440/1440 [==============================] - 11s 8ms/step - loss: 0.0155 - val_loss: 0.0152\n",
      "Epoch 32/100\n",
      "1440/1440 [==============================] - 10s 7ms/step - loss: 0.0155 - val_loss: 0.0153\n",
      "Epoch 33/100\n",
      "1440/1440 [==============================] - 11s 7ms/step - loss: 0.0155 - val_loss: 0.0153\n",
      "Epoch 34/100\n",
      "1440/1440 [==============================] - 11s 8ms/step - loss: 0.0155 - val_loss: 0.0153\n",
      "Epoch 35/100\n",
      "1440/1440 [==============================] - 10s 7ms/step - loss: 0.0155 - val_loss: 0.0152\n",
      "Epoch 36/100\n",
      "1440/1440 [==============================] - 11s 7ms/step - loss: 0.0155 - val_loss: 0.0151\n",
      "Epoch 37/100\n",
      "1440/1440 [==============================] - 10s 7ms/step - loss: 0.0155 - val_loss: 0.0152\n",
      "Epoch 38/100\n",
      "1440/1440 [==============================] - 10s 7ms/step - loss: 0.0155 - val_loss: 0.0153\n",
      "Epoch 39/100\n",
      "1440/1440 [==============================] - 10s 7ms/step - loss: 0.0154 - val_loss: 0.0151\n",
      "Epoch 40/100\n",
      "1440/1440 [==============================] - 11s 7ms/step - loss: 0.0155 - val_loss: 0.0151\n",
      "Epoch 41/100\n",
      "1440/1440 [==============================] - 11s 8ms/step - loss: 0.0154 - val_loss: 0.0150\n",
      "Epoch 42/100\n",
      "1440/1440 [==============================] - 10s 7ms/step - loss: 0.0154 - val_loss: 0.0153\n",
      "Epoch 43/100\n",
      "1440/1440 [==============================] - 10s 7ms/step - loss: 0.0154 - val_loss: 0.0152\n",
      "Epoch 44/100\n",
      "1440/1440 [==============================] - 10s 7ms/step - loss: 0.0153 - val_loss: 0.0152\n",
      "Epoch 45/100\n",
      "1440/1440 [==============================] - 11s 7ms/step - loss: 0.0154 - val_loss: 0.0150\n",
      "Epoch 46/100\n",
      "1440/1440 [==============================] - 11s 7ms/step - loss: 0.0154 - val_loss: 0.0152\n",
      "Epoch 47/100\n",
      "1440/1440 [==============================] - 10s 7ms/step - loss: 0.0154 - val_loss: 0.0151\n",
      "Epoch 48/100\n",
      "1440/1440 [==============================] - 10s 7ms/step - loss: 0.0153 - val_loss: 0.0150\n",
      "Epoch 49/100\n",
      "1440/1440 [==============================] - 10s 7ms/step - loss: 0.0153 - val_loss: 0.0151\n",
      "Epoch 50/100\n",
      "1440/1440 [==============================] - 11s 8ms/step - loss: 0.0154 - val_loss: 0.0153\n",
      "Epoch 51/100\n",
      "1440/1440 [==============================] - 10s 7ms/step - loss: 0.0153 - val_loss: 0.0151\n",
      "Epoch 52/100\n",
      "1440/1440 [==============================] - 10s 7ms/step - loss: 0.0153 - val_loss: 0.0150\n",
      "Epoch 53/100\n",
      "1440/1440 [==============================] - 10s 7ms/step - loss: 0.0153 - val_loss: 0.0150\n",
      "Epoch 54/100\n",
      "1440/1440 [==============================] - 11s 8ms/step - loss: 0.0153 - val_loss: 0.0150\n",
      "Epoch 55/100\n",
      "1440/1440 [==============================] - 11s 7ms/step - loss: 0.0153 - val_loss: 0.0150\n",
      "Epoch 56/100\n",
      "1440/1440 [==============================] - 10s 7ms/step - loss: 0.0153 - val_loss: 0.0151\n",
      "Epoch 57/100\n",
      "1440/1440 [==============================] - 11s 8ms/step - loss: 0.0153 - val_loss: 0.0150\n",
      "Epoch 58/100\n",
      "1440/1440 [==============================] - 11s 8ms/step - loss: 0.0152 - val_loss: 0.0150\n",
      "Epoch 59/100\n",
      "1440/1440 [==============================] - 10s 7ms/step - loss: 0.0153 - val_loss: 0.0150\n",
      "Epoch 60/100\n",
      "1440/1440 [==============================] - 11s 8ms/step - loss: 0.0152 - val_loss: 0.0150\n",
      "Epoch 61/100\n",
      "1440/1440 [==============================] - 11s 8ms/step - loss: 0.0152 - val_loss: 0.0149\n",
      "Epoch 62/100\n",
      "1440/1440 [==============================] - 10s 7ms/step - loss: 0.0152 - val_loss: 0.0149\n",
      "Epoch 63/100\n",
      "1440/1440 [==============================] - 11s 7ms/step - loss: 0.0152 - val_loss: 0.0150\n",
      "Epoch 64/100\n",
      "1440/1440 [==============================] - 11s 7ms/step - loss: 0.0152 - val_loss: 0.0150\n",
      "Epoch 65/100\n",
      "1440/1440 [==============================] - 11s 8ms/step - loss: 0.0152 - val_loss: 0.0150\n",
      "Epoch 66/100\n",
      "1440/1440 [==============================] - 11s 8ms/step - loss: 0.0152 - val_loss: 0.0148\n",
      "Epoch 67/100\n",
      "1440/1440 [==============================] - 11s 7ms/step - loss: 0.0152 - val_loss: 0.0150\n",
      "Epoch 68/100\n",
      "1440/1440 [==============================] - 10s 7ms/step - loss: 0.0151 - val_loss: 0.0149\n",
      "Epoch 69/100\n",
      "1440/1440 [==============================] - 10s 7ms/step - loss: 0.0151 - val_loss: 0.0149\n",
      "Epoch 70/100\n",
      "1440/1440 [==============================] - 11s 7ms/step - loss: 0.0151 - val_loss: 0.0149\n",
      "Epoch 71/100\n",
      "1440/1440 [==============================] - 11s 7ms/step - loss: 0.0152 - val_loss: 0.0151\n",
      "Epoch 72/100\n",
      "1440/1440 [==============================] - 11s 7ms/step - loss: 0.0151 - val_loss: 0.0150\n",
      "Epoch 73/100\n",
      "1440/1440 [==============================] - 11s 7ms/step - loss: 0.0151 - val_loss: 0.0150\n",
      "Epoch 74/100\n",
      "1440/1440 [==============================] - 11s 8ms/step - loss: 0.0151 - val_loss: 0.0150\n",
      "Epoch 75/100\n",
      "1440/1440 [==============================] - 10s 7ms/step - loss: 0.0151 - val_loss: 0.0150\n",
      "Epoch 76/100\n",
      "1440/1440 [==============================] - 11s 8ms/step - loss: 0.0151 - val_loss: 0.0149\n",
      "Epoch 77/100\n",
      "1440/1440 [==============================] - 11s 7ms/step - loss: 0.0150 - val_loss: 0.0152\n",
      "Epoch 78/100\n",
      "1440/1440 [==============================] - 11s 7ms/step - loss: 0.0151 - val_loss: 0.0149\n",
      "Epoch 79/100\n"
     ]
    },
    {
     "name": "stdout",
     "output_type": "stream",
     "text": [
      "1440/1440 [==============================] - 10s 7ms/step - loss: 0.0152 - val_loss: 0.0150\n",
      "Epoch 80/100\n",
      "1440/1440 [==============================] - 11s 7ms/step - loss: 0.0151 - val_loss: 0.0149\n",
      "Epoch 81/100\n",
      "1440/1440 [==============================] - 11s 7ms/step - loss: 0.0151 - val_loss: 0.0149\n",
      "Epoch 82/100\n",
      "1440/1440 [==============================] - 11s 8ms/step - loss: 0.0150 - val_loss: 0.0149\n",
      "Epoch 83/100\n",
      "1440/1440 [==============================] - 11s 8ms/step - loss: 0.0151 - val_loss: 0.0148\n",
      "Epoch 84/100\n",
      "1440/1440 [==============================] - 10s 7ms/step - loss: 0.0151 - val_loss: 0.0149\n",
      "Epoch 85/100\n",
      "1440/1440 [==============================] - 10s 7ms/step - loss: 0.0150 - val_loss: 0.0149\n",
      "Epoch 86/100\n",
      "1440/1440 [==============================] - 10s 7ms/step - loss: 0.0151 - val_loss: 0.0150\n",
      "Epoch 87/100\n",
      "1440/1440 [==============================] - 10s 7ms/step - loss: 0.0151 - val_loss: 0.0150\n",
      "Epoch 88/100\n",
      "1440/1440 [==============================] - 11s 7ms/step - loss: 0.0150 - val_loss: 0.0149\n",
      "Epoch 89/100\n",
      "1440/1440 [==============================] - 10s 7ms/step - loss: 0.0150 - val_loss: 0.0148\n",
      "Epoch 90/100\n",
      "1440/1440 [==============================] - 10s 7ms/step - loss: 0.0151 - val_loss: 0.0149\n",
      "Epoch 91/100\n",
      "1440/1440 [==============================] - 10s 7ms/step - loss: 0.0150 - val_loss: 0.0148\n",
      "Epoch 92/100\n",
      "1440/1440 [==============================] - 11s 7ms/step - loss: 0.0151 - val_loss: 0.0149\n",
      "Epoch 93/100\n",
      "1440/1440 [==============================] - 11s 7ms/step - loss: 0.0150 - val_loss: 0.0149\n",
      "Epoch 94/100\n",
      "1440/1440 [==============================] - 10s 7ms/step - loss: 0.0150 - val_loss: 0.0150\n",
      "Epoch 95/100\n",
      "1440/1440 [==============================] - 10s 7ms/step - loss: 0.0150 - val_loss: 0.0151\n",
      "Epoch 96/100\n",
      "1440/1440 [==============================] - 10s 7ms/step - loss: 0.0150 - val_loss: 0.0149\n",
      "Epoch 97/100\n",
      "1440/1440 [==============================] - 10s 7ms/step - loss: 0.0150 - val_loss: 0.0148\n",
      "Epoch 98/100\n",
      "1440/1440 [==============================] - 11s 8ms/step - loss: 0.0150 - val_loss: 0.0148\n",
      "Epoch 99/100\n",
      "1440/1440 [==============================] - 11s 8ms/step - loss: 0.0150 - val_loss: 0.0148\n",
      "Epoch 100/100\n",
      "1440/1440 [==============================] - 11s 7ms/step - loss: 0.0150 - val_loss: 0.0150\n"
     ]
    }
   ],
   "source": [
    "# Train the model\n",
    "history = model.fit(X_train.reshape((X_train.shape[0], X_train.shape[1], 1)), y_train,\n",
    "                    epochs=100, batch_size=32, validation_data=(X_test.reshape((X_test.shape[0], X_test.shape[1], 1)), y_test))"
   ]
  },
  {
   "cell_type": "code",
   "execution_count": 13,
   "id": "5088129a",
   "metadata": {},
   "outputs": [
    {
     "data": {
      "image/png": "[encoded data removed]",
      "text/plain": [
       "<Figure size 1000x600 with 1 Axes>"
      ]
     },
     "metadata": {},
     "output_type": "display_data"
    }
   ],
   "source": [
    "# Plot training and validation loss over epochs\n",
    "plt.figure(figsize=(10, 6))\n",
    "plt.plot(history.history['loss'], label='Training Loss')\n",
    "plt.plot(history.history['val_loss'], label='Validation Loss')\n",
    "plt.xlabel('Epochs')\n",
    "plt.ylabel('Loss')\n",
    "plt.title('Training and Validation Loss')\n",
    "plt.legend()\n",
    "plt.grid(True)\n",
    "plt.show()"
   ]
  },
  {
   "cell_type": "markdown",
   "id": "fd6d9fee",
   "metadata": {},
   "source": [
    "## Prediction "
   ]
  },
  {
   "cell_type": "code",
   "execution_count": 14,
   "id": "64ad3ee0",
   "metadata": {},
   "outputs": [
    {
     "name": "stdout",
     "output_type": "stream",
     "text": [
      "360/360 [==============================] - 2s 4ms/step\n"
     ]
    }
   ],
   "source": [
    "# Make predictions on the test data\n",
    "y_pred = model.predict(X_test.reshape((X_test.shape[0], X_test.shape[1], 1)))"
   ]
  },
  {
   "cell_type": "code",
   "execution_count": 15,
   "id": "ddca2bd1",
   "metadata": {},
   "outputs": [],
   "source": [
    "# Inverse transform the scaled predictions to the original scale\n",
    "y_pred = scaler.inverse_transform(y_pred)\n",
    "y_test = scaler.inverse_transform(y_test)"
   ]
  },
  {
   "cell_type": "code",
   "execution_count": 16,
   "id": "a893a1d1",
   "metadata": {},
   "outputs": [],
   "source": [
    "# Calculate and print the Mean Squared Error (MSE) for each target variable\n",
    "mse_speed = np.mean((y_pred[:, 0] - y_test[:, 0]) ** 2)\n",
    "mse_field_magnitude = np.mean((y_pred[:, 1] - y_test[:, 1]) ** 2)"
   ]
  },
  {
   "cell_type": "code",
   "execution_count": 17,
   "id": "87db537f",
   "metadata": {},
   "outputs": [
    {
     "name": "stdout",
     "output_type": "stream",
     "text": [
      "MSE for Speed: 3528.930145151552\n",
      "MSE for Field Magnitude: 6.784333244804798\n"
     ]
    }
   ],
   "source": [
    "print(f'MSE for Speed: {mse_speed}')\n",
    "print(f'MSE for Field Magnitude: {mse_field_magnitude}')"
   ]
  },
  {
   "cell_type": "markdown",
   "id": "69aa8c2b",
   "metadata": {},
   "source": [
    "## Saving the model to a file"
   ]
  },
  {
   "cell_type": "code",
   "execution_count": 18,
   "id": "7ea21500",
   "metadata": {},
   "outputs": [
    {
     "name": "stderr",
     "output_type": "stream",
     "text": [
      "C:\\Users\\muham\\anaconda3\\lib\\site-packages\\keras\\src\\engine\\training.py:3079: UserWarning: You are saving your model as an HDF5 file via `model.save()`. This file format is considered legacy. We recommend using instead the native Keras format, e.g. `model.save('my_model.keras')`.\n",
      "  saving_api.save_model(\n"
     ]
    }
   ],
   "source": [
    "# Save the best model to a file\n",
    "model.save('omni_rnn_0_new.h5')  # Save the model in HDF5 format"
   ]
  },
  {
   "cell_type": "code",
   "execution_count": 20,
   "id": "03fffc8d",
   "metadata": {},
   "outputs": [
    {
     "ename": "ModuleNotFoundError",
     "evalue": "No module named 'graphviz'",
     "output_type": "error",
     "traceback": [
      "\u001b[1;31m---------------------------------------------------------------------------\u001b[0m",
      "\u001b[1;31mModuleNotFoundError\u001b[0m                       Traceback (most recent call last)",
      "Cell \u001b[1;32mIn[20], line 10\u001b[0m\n\u001b[0;32m      8\u001b[0m \u001b[38;5;28;01mfrom\u001b[39;00m \u001b[38;5;21;01mtensorflow\u001b[39;00m \u001b[38;5;28;01mimport\u001b[39;00m keras\n\u001b[0;32m      9\u001b[0m \u001b[38;5;28;01mfrom\u001b[39;00m \u001b[38;5;21;01mtensorflow\u001b[39;00m\u001b[38;5;21;01m.\u001b[39;00m\u001b[38;5;21;01mkeras\u001b[39;00m\u001b[38;5;21;01m.\u001b[39;00m\u001b[38;5;21;01mlayers\u001b[39;00m \u001b[38;5;28;01mimport\u001b[39;00m LSTM, Dropout, Dense\n\u001b[1;32m---> 10\u001b[0m \u001b[38;5;28;01mfrom\u001b[39;00m \u001b[38;5;21;01mgraphviz\u001b[39;00m \u001b[38;5;28;01mimport\u001b[39;00m Digraph\n\u001b[0;32m     12\u001b[0m \u001b[38;5;66;03m# Rest of your code...\u001b[39;00m\n\u001b[0;32m     13\u001b[0m \n\u001b[0;32m     14\u001b[0m \u001b[38;5;66;03m# Build the RNN model with an additional LSTM layer and a dropout layer\u001b[39;00m\n\u001b[0;32m     15\u001b[0m model \u001b[38;5;241m=\u001b[39m keras\u001b[38;5;241m.\u001b[39mSequential([\n\u001b[0;32m     16\u001b[0m     LSTM(\u001b[38;5;241m50\u001b[39m, activation\u001b[38;5;241m=\u001b[39m\u001b[38;5;124m'\u001b[39m\u001b[38;5;124mrelu\u001b[39m\u001b[38;5;124m'\u001b[39m, return_sequences\u001b[38;5;241m=\u001b[39m\u001b[38;5;28;01mTrue\u001b[39;00m, input_shape\u001b[38;5;241m=\u001b[39m(X_train\u001b[38;5;241m.\u001b[39mshape[\u001b[38;5;241m1\u001b[39m], \u001b[38;5;241m1\u001b[39m)),\n\u001b[0;32m     17\u001b[0m     LSTM(\u001b[38;5;241m50\u001b[39m, activation\u001b[38;5;241m=\u001b[39m\u001b[38;5;124m'\u001b[39m\u001b[38;5;124mrelu\u001b[39m\u001b[38;5;124m'\u001b[39m, return_sequences\u001b[38;5;241m=\u001b[39m\u001b[38;5;28;01mTrue\u001b[39;00m),  \u001b[38;5;66;03m# Second LSTM layer\u001b[39;00m\n\u001b[0;32m     18\u001b[0m     Dropout(\u001b[38;5;241m0.2\u001b[39m),  \u001b[38;5;66;03m# Dropout layer to prevent overfitting\u001b[39;00m\n\u001b[0;32m     19\u001b[0m     Dense(\u001b[38;5;241m2\u001b[39m)  \u001b[38;5;66;03m# Two output neurons for speed and field magnitude\u001b[39;00m\n\u001b[0;32m     20\u001b[0m ])\n",
      "\u001b[1;31mModuleNotFoundError\u001b[0m: No module named 'graphviz'"
     ]
    }
   ],
   "source": [
    "import os\n",
    "import pandas as pd\n",
    "import numpy as np\n",
    "import matplotlib.pyplot as plt\n",
    "from sklearn.model_selection import train_test_split\n",
    "from sklearn.preprocessing import MinMaxScaler\n",
    "import tensorflow as tf\n",
    "from tensorflow import keras\n",
    "from tensorflow.keras.layers import LSTM, Dropout, Dense\n",
    "from graphviz import Digraph\n",
    "\n",
    "# Rest of your code...\n",
    "\n",
    "# Build the RNN model with an additional LSTM layer and a dropout layer\n",
    "model = keras.Sequential([\n",
    "    LSTM(50, activation='relu', return_sequences=True, input_shape=(X_train.shape[1], 1)),\n",
    "    LSTM(50, activation='relu', return_sequences=True),  # Second LSTM layer\n",
    "    Dropout(0.2),  # Dropout layer to prevent overfitting\n",
    "    Dense(2)  # Two output neurons for speed and field magnitude\n",
    "])\n",
    "\n",
    "# Visualize the model using Graphviz\n",
    "def plot_model(model, to_file='model.png'):\n",
    "    dot = Digraph(comment='RNN Model', format='png')\n",
    "\n",
    "    # Input layer\n",
    "    dot.node('input', label='Input\\n(X_train.shape[1], 1)')\n",
    "\n",
    "    # LSTM layers\n",
    "    for i, layer in enumerate(model.layers):\n",
    "        if isinstance(layer, LSTM):\n",
    "            dot.node(f'lstm_{i}', label=f'LSTM ({layer.units}, {layer.activation})')\n",
    "\n",
    "    # Dropout layer\n",
    "    dropout_layer = [layer.name for layer in model.layers if isinstance(layer, Dropout)]\n",
    "    if dropout_layer:\n",
    "        dot.node(dropout_layer[0], label='Dropout (20%)')\n",
    "\n",
    "    # Dense layer\n",
    "    dense_layer = [layer.name for layer in model.layers if isinstance(layer, Dense)]\n",
    "    if dense_layer:\n",
    "        dot.node(dense_layer[0], label='Dense (2)')\n",
    "\n",
    "    # Connect layers\n",
    "    dot.edges(['input:lstm_0', 'lstm_0:lstm_1', 'lstm_1:dropout', 'dropout:dense'])\n",
    "\n",
    "    # Save the diagram as an image\n",
    "    dot.render(to_file, view=False)\n",
    "\n",
    "# Call the function to generate the diagram\n",
    "plot_model(model, to_file='neural_network_diagram')\n"
   ]
  },
  {
   "cell_type": "code",
   "execution_count": 21,
   "id": "2078995f",
   "metadata": {},
   "outputs": [
    {
     "name": "stdout",
     "output_type": "stream",
     "text": [
      "Collecting graphviz\n",
      "  Using cached graphviz-0.20.1-py3-none-any.whl (47 kB)\n",
      "Installing collected packages: graphviz\n",
      "Successfully installed graphviz-0.20.1\n",
      "Note: you may need to restart the kernel to use updated packages.\n"
     ]
    }
   ],
   "source": [
    "pip install graphviz"
   ]
  },
  {
   "cell_type": "code",
   "execution_count": null,
   "id": "694313d1",
   "metadata": {},
   "outputs": [],
   "source": []
  }
 ],
 "metadata": {
  "kernelspec": {
   "display_name": "Python 3 (ipykernel)",
   "language": "python",
   "name": "python3"
  },
  "language_info": {
   "codemirror_mode": {
    "name": "ipython",
    "version": 3
   },
   "file_extension": ".py",
   "mimetype": "text/x-python",
   "name": "python",
   "nbconvert_exporter": "python",
   "pygments_lexer": "ipython3",
   "version": "3.10.9"
  }
 },
 "nbformat": 4,
 "nbformat_minor": 5
}
